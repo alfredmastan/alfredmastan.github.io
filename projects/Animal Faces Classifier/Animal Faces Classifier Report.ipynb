{
 "cells": [
  {
   "cell_type": "markdown",
   "id": "42384452-fb86-4872-9846-06d141e61bd6",
   "metadata": {},
   "source": [
    "<br>"
   ]
  },
  {
   "cell_type": "markdown",
   "id": "eb60801b-e35d-4af7-bea7-e3ecdd324c8b",
   "metadata": {},
   "source": [
    "# **<center>Animal Faces Recognition<br>Using CNN and ANN Neural Networks</center>**"
   ]
  },
  {
   "cell_type": "markdown",
   "id": "0525d1aa-56ae-4c55-8bf6-2bf881a1fdf9",
   "metadata": {},
   "source": [
    "---"
   ]
  },
  {
   "cell_type": "markdown",
   "id": "61e55abf-769a-4a22-9c81-29235150bec2",
   "metadata": {},
   "source": [
    "<center>Alfred Mastan <br>\n",
    "    Department of Atmospheric and Oceanic Sciences, UCLA <br>\n",
    "    AOS C111: Introduction to Machine Learning for the Physical Sciences <br>\n",
    "    Dr. Alexander Lozinski\n",
    "</center>"
   ]
  },
  {
   "cell_type": "markdown",
   "id": "1f92c895-2940-4ee0-b7ca-ba065e4a19ef",
   "metadata": {},
   "source": [
    "# **Introduction**"
   ]
  },
  {
   "cell_type": "markdown",
   "id": "dbf8be49-ad74-4c89-bff5-95ecc9a160c8",
   "metadata": {},
   "source": [
    "---"
   ]
  },
  {
   "cell_type": "markdown",
   "id": "20a2f7fe-3ece-4ff9-971b-c69cf7ec2221",
   "metadata": {},
   "source": [
    "Image classification is a growing field in machine learning with numerous deep learning techniques that are continuously being improved to increase accuracy and applicability across various industries. There have been numerous cases where image classification is used, such as in self-driving cars, traffic control, quality control, and more. In this case, we take a common problem in recognizing animal faces through machines. The task involves classifying animals based on their facial features, which has its own unique challenges due to various appearances across species. There have been multiple applications in wildlife conservation, pet identification, and veterinary diagnostics where similar model are being used to help them catagorize animals in photos.\n",
    "\n",
    "To address this problem, two machine learning architectures are used: **Convolutional Neural Networks (CNNs)** and **Artificial Neural Networks (ANNs)**. The objective is to compare these two models and determine which architecture is more suitable for this task. Using evaluation metrics such as accuracy, confusion matrices, ROC curves, and precision-recall curves, we can determine which model performs better in classifying the images."
   ]
  },
  {
   "cell_type": "markdown",
   "id": "cd0e3fde-3475-4c6b-bf68-d8a185961f27",
   "metadata": {},
   "source": [
    "# **Data**"
   ]
  },
  {
   "cell_type": "markdown",
   "id": "20e79ad6-35cb-4827-a13a-0807544b84ef",
   "metadata": {},
   "source": [
    "---"
   ]
  },
  {
   "cell_type": "markdown",
   "id": "b78dddef-3e3e-47c9-aeb5-74c85a8d3f8c",
   "metadata": {},
   "source": [
    "The data was originally provided from a research [**StarGAN v2: Diverse Image Synthesis for Multiple Domains**](https://github.com/clovaai/stargan-v2?tab=readme-ov-file) by *Yunjey Choi and Youngjung Uh and Jaejun Yoo and Jung-Woo Ha* in 2020. It was later posted on data science web platform [*Kaggle*](kaggle.com) by the user *LARXEL* under the title [**Animal Faces**](https://www.kaggle.com/datasets/andrewmvd/animal-faces)\n",
    "\n",
    "The dataset contains *16,130* high-quality images with **512x512px** resolution that are already split evenly into three classes: **cat, dog, and wild**.\n",
    "\n",
    "Additionally, the data was neatly seperated for training and validation purposes, containing *14,630* and *1,500* images, respectively.\n",
    "\n",
    "Here are some sample images taken from the dataset for each class:\n",
    "<div style=\"display: flex; flex-wrap: wrap; gap: 20px;\">\n",
    "    <img src=\"assets/figures/flickr_cat_000048.jpg\" alt=\"Cat\" style=\"margin-right: 10px; min-width: 150px;\">\n",
    "    <img src=\"assets/figures/flickr_dog_000010.jpg\" alt=\"Dog\" style=\"margin-right: 10px; min-width: 150px;\">\n",
    "    <img src=\"assets/figures/flickr_wild_000035.jpg\" alt=\"Wild\" style=\"margin-right: 10px; min-width: 150px;\">\n",
    "</div>"
   ]
  },
  {
   "cell_type": "markdown",
   "id": "4eeac112-1f14-4f4d-8bd9-afee0dc3a672",
   "metadata": {},
   "source": [
    "# **Modelling**"
   ]
  },
  {
   "cell_type": "markdown",
   "id": "0f0f8757-a9da-44ce-b0ff-b667b1c89aae",
   "metadata": {},
   "source": [
    "---"
   ]
  },
  {
   "cell_type": "markdown",
   "id": "7de90185-8dd3-4983-8d18-d67986346a2c",
   "metadata": {},
   "source": [
    "## Data Preprocessing"
   ]
  },
  {
   "cell_type": "markdown",
   "id": "4cff1c9e-609c-4bed-919c-3dee753cc896",
   "metadata": {},
   "source": [
    "Before the data was fed into the model, there are some preprocessing to do beforehand. This was mostly done using the `TensorFlow` datasets library and the `os` module to load the data from the computer.\n",
    "\n",
    "Since the data is already evenly separated between classes and between training and validation sets, we don't need to worry about data imbalance or splitting the data. The data was then loaded in the following format:\n",
    "\n",
    "- `integer` for the label (target variable):\n",
    "  - 0: Cat\n",
    "  - 1: Dog\n",
    "  - 2: Wild\n",
    "- `128x128` image resizing:\n",
    "  - Due to the limitations of the available computing power and time, resizing the images to 128x128 was the right choice without significantly compromising model accuracy.\n",
    "- `RGB` color mode:\n",
    "  - Ensuring that every image loaded was in the `RGB` (Red, Green, Blue) color mode to prevent any mismatches.\n",
    "- **Batching** of **32** images per batch:\n",
    "  - Since the data contains *16,130* images, batching was applied for performance reasons.\n",
    "\n",
    "Furthermore, the training data was *shuffled* to randomize its order, while the validation data remained *unshuffled*.\n",
    "\n",
    "Thus, the data was ready for use in the model.\n"
   ]
  },
  {
   "cell_type": "markdown",
   "id": "83e00dd8-344c-467f-a941-bf293372f744",
   "metadata": {},
   "source": [
    "## Neural Network Models"
   ]
  },
  {
   "cell_type": "markdown",
   "id": "0bcf713e-c533-4433-96ef-058f68a7cdd1",
   "metadata": {},
   "source": [
    "Two neural network models are being used for this project: **Convolutional Neural Networks (CNN)** and **Artificial Neural Networks (ANN)** as classifiers for the images. Both models were constructed using the `TensorFlow` and `Keras` modules.\n"
   ]
  },
  {
   "cell_type": "markdown",
   "id": "46adc52a-4f94-4752-8af7-b0266264df23",
   "metadata": {},
   "source": [
    "### Convolutional Neural Networks (CNN)"
   ]
  },
  {
   "cell_type": "markdown",
   "id": "d590dfc6-6f7c-4030-b838-e60d34aed11d",
   "metadata": {},
   "source": [
    "After numerous trials and errors, the *Convolutional Neural Networks (CNN)* was designed as follows to complement the available computing power:\n",
    "\n",
    "- A `Rescaling` layer as the input layer to normalize the data for stability.\n",
    "- **3 sets** of `Convolution` and `MaxPooling` layers with the `relu` activation function.\n",
    "- The `filter_shape` was set to **3x3**.\n",
    "- The *pooling* shape was set to **2x2**.\n",
    "- Gradually increasing `filter_size`, starting from **32** and progressing to **128**.\n",
    "- **128** neurons for the *fully connected* layer with the `relu` activation function.\n",
    "- The `optimizer` used was **Stochastic Gradient Descent (SGD)**.\n",
    "- The `softmax` activation function was used for the output layer, as we have multiple classes.\n"
   ]
  },
  {
   "cell_type": "markdown",
   "id": "7e2548b4-02c9-4784-b682-a737b6ae3b25",
   "metadata": {},
   "source": [
    "```python\n",
    "# Variables for model\n",
    "filter_shape = (3, 3)\n",
    "class_names = val_dataset.class_names\n",
    "num_classes = len(val_dataset.class_names)\n",
    "\n",
    "# Create the model\n",
    "model_cnn = Sequential([\n",
    "    #Input Layer\n",
    "    layers.Rescaling(scale=(1./255), input_shape=(128, 128, 3)),\n",
    "\n",
    "    # First Block\n",
    "    layers.Conv2D(32, filter_shape, activation='relu'),\n",
    "    layers.MaxPooling2D((2, 2)),\n",
    "\n",
    "    # Second Block\n",
    "    layers.Conv2D(64, filter_shape, activation='relu'),\n",
    "    layers.MaxPooling2D((2, 2)),\n",
    "\n",
    "    # Third Block\n",
    "    layers.Conv2D(128, filter_shape, activation='relu'),\n",
    "    layers.MaxPooling2D((2, 2)),\n",
    "\n",
    "    # Fully-Connected Layer\n",
    "    layers.Flatten(),\n",
    "    layers.Dense(128, activation='relu'),\n",
    "\n",
    "    # Output Layer\n",
    "    layers.Dense(num_classes, activation='softmax')\n",
    "])\n",
    "\n",
    "# Compile model for sparse labels\n",
    "model_cnn.compile(\n",
    "    optimizer='sgd',\n",
    "    loss='sparse_categorical_crossentropy',  # For integer labels\n",
    "    metrics=[keras.metrics.SparseCategoricalAccuracy(name='accuracy')]\n",
    ")\n",
    "```"
   ]
  },
  {
   "cell_type": "markdown",
   "id": "5a42072f-2764-48a8-b693-f7ebfe0bd52d",
   "metadata": {},
   "source": [
    "### Artificial Neural Networks (ANN)"
   ]
  },
  {
   "cell_type": "markdown",
   "id": "fdc796a5-4ddc-45a8-bcb5-431b0a619ce9",
   "metadata": {},
   "source": [
    "For the same reason, the *Artificial Neural Networks (ANN)* model was designed as follows:\n",
    "\n",
    "- A `Rescaling` layer as the input layer to normalize the data for stability.\n",
    "- **3 hidden layers** with a decreasing number of neurons, starting from **1024** and reducing to **256**.\n",
    "- A `Dropout` layer with a strength of **0.3** was used in each hidden layer to combat overfitting.\n",
    "- The `optimizer` used was **Stochastic Gradient Descent (SGD)**.\n"
   ]
  },
  {
   "cell_type": "markdown",
   "id": "fbc953f5-9120-458a-bdbf-63a253f1af81",
   "metadata": {},
   "source": [
    "```python\n",
    "# Create the model\n",
    "model_ann = Sequential([\n",
    "    # Input Layer\n",
    "    layers.Rescaling(scale=(1./255), input_shape=(128, 128, 3)),\n",
    "    layers.Flatten(),\n",
    "\n",
    "    # First Hidden Layer\n",
    "    layers.Dense(1024, activation='relu'),\n",
    "    layers.Dropout(0.3),\n",
    "\n",
    "    # Second Hidden Layer\n",
    "    layers.Dense(512, activation='relu'),\n",
    "    layers.Dropout(0.3),\n",
    "\n",
    "    # Third Hidden Layer\n",
    "    layers.Dense(256, activation='relu'),\n",
    "    layers.Dropout(0.3),\n",
    "\n",
    "    # Output Layer\n",
    "    layers.Dense(num_classes, activation='softmax')\n",
    "])\n",
    "\n",
    "# Compile model for sparse labels\n",
    "model_ann.compile(\n",
    "    optimizer='sgd',\n",
    "    loss='sparse_categorical_crossentropy',  # For integer labels\n",
    "    metrics=[keras.metrics.SparseCategoricalAccuracy(name='accuracy')]\n",
    ")\n",
    "```"
   ]
  },
  {
   "cell_type": "markdown",
   "id": "597797a1-fb98-4e38-99ee-304779ce5825",
   "metadata": {},
   "source": [
    "### Training"
   ]
  },
  {
   "cell_type": "markdown",
   "id": "8f0c2faf-72e1-4aed-9c08-bf158687634e",
   "metadata": {},
   "source": [
    "Both models were trained using `EarlyStopping` on the *validation loss* to further prevent overfitting, as follows:\n"
   ]
  },
  {
   "cell_type": "markdown",
   "id": "62fe74b1-2698-47ba-8066-4c33adf283d9",
   "metadata": {},
   "source": [
    "```python\n",
    "# CNN\n",
    "early_stopping = keras.callbacks.EarlyStopping(monitor='val_loss', patience=3, restore_best_weights=True)\n",
    "\n",
    "history_cnn = model_cnn.fit(\n",
    "    train_dataset,\n",
    "    validation_data=val_dataset,\n",
    "    epochs=20,\n",
    "    callbacks=[early_stopping],\n",
    ")\n",
    "\n",
    "# ANN\n",
    "early_stopping = keras.callbacks.EarlyStopping(monitor='val_loss', patience=5, restore_best_weights=True)\n",
    "\n",
    "history_ann = model_ann.fit(\n",
    "    train_dataset,\n",
    "    validation_data=val_dataset,\n",
    "    epochs=20,\n",
    "    callbacks=[early_stopping],\n",
    ")\n",
    "```"
   ]
  },
  {
   "cell_type": "markdown",
   "id": "7f5cc6a6-0a0b-4e95-ae70-a303820a6c4e",
   "metadata": {},
   "source": [
    "# Results"
   ]
  },
  {
   "cell_type": "markdown",
   "id": "c11671bc-bf5a-45b6-a935-b2b00b8211c9",
   "metadata": {},
   "source": [
    "---"
   ]
  },
  {
   "cell_type": "markdown",
   "id": "5457a29c-6426-4aa4-b055-5e814395b9a2",
   "metadata": {},
   "source": [
    "Each model was trained accordingly, resulting in an accuracy of **95.47%** with **12.61 MB** of memory used for the CNN model and **83.13%** accuracy with **194.51 MB** of memory used for the ANN model. The CNN model stopped training after seeing no improvement in the *validation loss* at **13 epochs**, while the ANN model stopped training at **15 epochs** using a similar method. The accuracy for both models over each epoch is plotted below:\n"
   ]
  },
  {
   "cell_type": "markdown",
   "id": "9547c030-f83a-4285-961e-a7f9c094317c",
   "metadata": {},
   "source": [
    "<img src='assets/figures/model_over_epoch.png'>"
   ]
  },
  {
   "cell_type": "markdown",
   "id": "b91ebdb8-c4f6-4d27-ae66-f26b9193de8b",
   "metadata": {},
   "source": [
    "*Figure 1. Accuracy Over Epoch for CNN and ANN*"
   ]
  },
  {
   "cell_type": "markdown",
   "id": "c6041da8-181b-4c20-b367-affd98361b3e",
   "metadata": {},
   "source": [
    "### Evaluation Metrics"
   ]
  },
  {
   "cell_type": "markdown",
   "id": "54abaa60-3124-4fd1-acd1-ca06c080b540",
   "metadata": {},
   "source": [
    "To further evaluate the models, several metrics were used and plotted below to have a better view on how both models perform:"
   ]
  },
  {
   "cell_type": "markdown",
   "id": "c958a9c5-aafc-4362-839e-9e8fd1831c53",
   "metadata": {},
   "source": [
    "<img src='assets/figures/model_confusion_matrix.png'>"
   ]
  },
  {
   "cell_type": "markdown",
   "id": "dff04097-a5df-4f36-8ccb-0ef8b745bffa",
   "metadata": {},
   "source": [
    "*Figure 2. Confusion Matrix for CNN and ANN*"
   ]
  },
  {
   "cell_type": "markdown",
   "id": "937a0e8f-71cd-4492-8027-a34995bce2f2",
   "metadata": {},
   "source": [
    "<img src='assets/figures/model_roc_curve.png'>"
   ]
  },
  {
   "cell_type": "markdown",
   "id": "641f694c-17ae-46c9-bf00-0ee9c2e97d88",
   "metadata": {},
   "source": [
    "*Figure 3. ROC Curve for CNN and ANN*"
   ]
  },
  {
   "cell_type": "markdown",
   "id": "a11256ab-3169-48d4-a2e3-ceea68ac84ac",
   "metadata": {},
   "source": [
    "<img src='assets/figures/model_precision_recall_curve.png'>"
   ]
  },
  {
   "cell_type": "markdown",
   "id": "a2ce475d-bd20-47ec-ade7-f0dada25c71d",
   "metadata": {},
   "source": [
    "*Figure 4. Precision-Recall Curve for CNN and ANN*"
   ]
  },
  {
   "cell_type": "markdown",
   "id": "e69a00c2-e20d-4209-adca-e52fc9f086b5",
   "metadata": {},
   "source": [
    "# Discussion"
   ]
  },
  {
   "cell_type": "markdown",
   "id": "620e7f02-cc31-444f-a194-83e81e078614",
   "metadata": {},
   "source": [
    "---"
   ]
  },
  {
   "cell_type": "markdown",
   "id": "666b6c7f-94d4-4bf3-9e68-2eeeacbb264a",
   "metadata": {},
   "source": [
    "Based on the validation accuracy shown in *Figure 1*, the CNN model performs better than the ANN model. The CNN model achieves **95.47%** accuracy, whereas the ANN model achieves **83.13%** accuracy. Although the difference in accuracy may not seem significant, the memory used by each model differ significantly with **12.61 MB** for the CNN model compared with **194.51 MB** for the ANN model. In other words, the CNN model managed to reduce memory usage by **93.5%** compared to the ANN model. However, since relying solely on accuracy can be misleading and inadequate for reaching a conclusion, several additional metrics are used to further emphasize the performance of both models."
   ]
  },
  {
   "cell_type": "markdown",
   "id": "a6464bed-a127-4a91-a413-ad367cbdeca0",
   "metadata": {},
   "source": [
    "### Confusion Matrix"
   ]
  },
  {
   "cell_type": "markdown",
   "id": "67650cd3-b8d2-4c20-a2cb-d43cb9c75a71",
   "metadata": {},
   "source": [
    "The confusion matrices shown in *Figure 2* reveal the prediction results of both models for each image in the validation data. It is clearly seen that there are more false predictions using the ANN model compared to the CNN model. By looking at the number of false predictions for each class by both models, we can see significant differences. For example, in *Figure 2*, the ANN model predicts **53** cat images as wild, whereas the CNN model predicts only **11** cat images as wild. These mispredictions occurs a lot more frequently in the ANN model throughout different images.\n"
   ]
  },
  {
   "cell_type": "markdown",
   "id": "3ab32303-02c9-49fa-b7d1-6840b8ffe4b7",
   "metadata": {},
   "source": [
    "### ROC Curve"
   ]
  },
  {
   "cell_type": "markdown",
   "id": "abeb5e48-b2bf-461d-889c-1699f7eb5d10",
   "metadata": {},
   "source": [
    "The ROC curve, or *Receiver Operating Characteristic* curve, shown in *Figure 3*, was plotted separately for each class with the corresponding *Area Under the Curve* (AUC). The AUC value ranges between **[0, 1]**, where 1 indicates a perfect model, while 0.5 (dotted line) represents a random model. *Figure 3* reveals that the CNN model is a near-perfect model with AUC values ranging between **[0.99, 1.0]** for each class. On the other hand, the ANN model performs reasonably well, with AUC values ranging between **[0.95, 0.96]**. \n",
    "\n",
    "It is important to note that the data used is balanced, which makes the ROC-AUC value valid to determine which model performs better. This is because the ROC curve only considers *true positive rates* and *false positive rates*, which might skew the results for imbalanced data. In this case, the CNN model outperforms the ANN model."
   ]
  },
  {
   "cell_type": "markdown",
   "id": "60e3d881-d42d-4cb4-bb16-707cb1dd35f7",
   "metadata": {},
   "source": [
    "### Precision-Recall Curve"
   ]
  },
  {
   "cell_type": "markdown",
   "id": "9d38bc06-12cb-402a-ab04-f9f721b8c251",
   "metadata": {},
   "source": [
    "As mentioned before, the ROC curve considers the *true positive rates* and the *false positive rates*. Meanwhile, the Precision-Recall curve also considers for the *false negatives rates* through *precision* and *recall* values, hence the name. Similarly, the Precision-Recall curve shown in *Figure 4* was also plotted seperately for each class alongside their AUC values. \n",
    "\n",
    "We can see that the CNN model also performs better than the ANN model based on their AUC values. Each class in the CNN model has the same AUC value of **0.99**, while the AUC values for the ANN model differs, ranging from **[0.90, 0.93]**. Again, the difference indicates that the CNN model is superior."
   ]
  },
  {
   "cell_type": "markdown",
   "id": "6daec18c-7e56-43a3-b57e-233ffdd5741e",
   "metadata": {},
   "source": [
    "### Insights"
   ]
  },
  {
   "cell_type": "markdown",
   "id": "9b2b1aa2-a583-4e70-8a64-28f20529df2c",
   "metadata": {},
   "source": [
    "During the process of modelling the ANN model, several attempts were made to increase its accuracy. The first intuition was to increase the number of neurons along with the number of hidden layers. This resulted in lower loss for both training and validation data. However, the model tends to overfit, which leads to lower validation accuracy compared to the previous simpler model. \n",
    "\n",
    "In order to combat this, several regularizations methods were used, such as multiple `Dropout` layers after every `Dense` layer and adding *L2 kernel_regularization* to every layer. But to no avail, this resulted in a huge spike in both training and validation loss, which further lower the overall accuracy. It also creates more instability during training that is shown in *Figure 1* with the spikes in accuracy over every epoch. Additionally, increasing the number of neurons and hidden layers significantly increased the model's memory usage, which can cause more problems.\n",
    "\n",
    "This phenomenon is due to the nature of the ANN model itself, which is far more prone to overfitting in image classification compared to the CNN model. The tradeoff between accuracy and loss on the ANN model explains how each of the evaluations metrics shows that the CNN model was able to perform better than the ANN model. "
   ]
  },
  {
   "cell_type": "markdown",
   "id": "99f7403a-c983-4af3-98ec-87983041d797",
   "metadata": {},
   "source": [
    "### Outside Data"
   ]
  },
  {
   "cell_type": "markdown",
   "id": "90d26b7c-0121-4dbf-b089-5da163b68356",
   "metadata": {},
   "source": [
    "To further evaluate the models' performance, several images were taken from the internet and run through both models."
   ]
  },
  {
   "cell_type": "markdown",
   "id": "e3ea3bd6-7bf1-45e8-81ed-650ad7e250fa",
   "metadata": {},
   "source": [
    "<img src='assets/figures/model_cnn_test.png'>\n",
    "<img src='assets/figures/model_ann_test.png'>"
   ]
  },
  {
   "cell_type": "markdown",
   "id": "2597edf3-a6bc-4936-8897-0987bf8f3ab6",
   "metadata": {},
   "source": [
    "*Figure 5. Testing Results with CNN and ANN*"
   ]
  },
  {
   "cell_type": "markdown",
   "id": "a0963561-cfe8-42b5-b141-6d8d761140b0",
   "metadata": {},
   "source": [
    "Despite both models having high accuracy with well over 80%, they still struggle to predict some of the images shown above. This occurs due to the accuracy itself was achieved using validation data, which was possibly taken from same source as the training data. When the models are introduced to new, random data from different sources on the internet, they might fail to predict correctly due to the noise of the data. The noise that the model was not trained on, such as the background of the animal they are trying to predict. Another possibility is because the training data was resized to a lower resolution, which removes some of the details from the image. Alternatively, the model may simply not have been trained with enough data.\n",
    "\n",
    "Despite all of the limitations, the CNN model still performs better than the ANN model. It is shown that in images 0, 3, and 4, the ANN model fails to predict the animal accurately, where the CNN model was able to predict it. On the other hand, in image 2, both models fail to predict the animal due to the limitations mentioned before. However, in images 1, and 5, both models are able to predict the images correctly."
   ]
  },
  {
   "cell_type": "markdown",
   "id": "6e257797-cce6-4e73-9448-68983d285dea",
   "metadata": {},
   "source": [
    "# Conclusion"
   ]
  },
  {
   "cell_type": "markdown",
   "id": "f9777fd2-5a72-4f0a-8d7a-3f3e05019573",
   "metadata": {},
   "source": [
    "---"
   ]
  },
  {
   "cell_type": "markdown",
   "id": "f536ca86-dbe1-4def-8818-057a12d00618",
   "metadata": {},
   "source": [
    "Both model managed to achieve high accuracy, with **95.47%** for the CNN model and **83.13%** for the ANN model. However, all of the evaluations consistently show that the CNN model is superior to the CNN model. Additionally, the CNN model was able to predict more accurately on outside data from random source in the internet. This makes the CNN model a clear winner for image classification tasks compared to the ANN model due to how each model handles data and its architecture. \n",
    "\n",
    "The main issue for the ANN model in image classification is how sensitive it is towards overfitting. To capture more detail and improve accuracy, it requires an increase in the number of neurons and hidden layers, which also increases the likelihood of overfitting. At the same time, adding regularization to generalize the model leads to spikes in loss that lower the accuracy even further, contrary of what we are trying to achieve. Furthermore, adding more neurons and hidden layers significantly increases the memory usage, which causes scalability issues in the future applications."
   ]
  },
  {
   "cell_type": "markdown",
   "id": "cc9f04f7-ad7f-423d-bfaf-2f883015bdfd",
   "metadata": {},
   "source": [
    "# References"
   ]
  },
  {
   "cell_type": "markdown",
   "id": "257f5e79-32ad-4878-aceb-1bdac6f7432f",
   "metadata": {},
   "source": [
    "---"
   ]
  },
  {
   "cell_type": "markdown",
   "id": "d9c4fd2f-1484-4d63-8abe-e1d09d5f52af",
   "metadata": {},
   "source": [
    "[1] KittySensations, \"Animal Face,\" *Pinterest*. Available: www.pinterest.com/pin/603271312566584729/. Accessed: Nov. 29, 2024.\n",
    "\n",
    "[2] \"Tabby Cat's Face,\" *Warren Photographic*. Available: www.warrenphotographic.co.uk/02395-tabby-cats-face. Accessed: Nov. 29, 2024.\n",
    "\n",
    "[3] C. Nguyen, \"Black Dog Staring at the Camera,\" *Unsplash*, Published: Oct. 15, 2017. Available: https://unsplash.com/photos/black-dog-staring-at-the-camera-DKHnBJyWCQ8. Accessed: Nov. 29, 2024.\n",
    "\n",
    "[4] S. Mironenko, \"Lion King Isolated on Black,\" *Adobe Stock*. Available: https://as2.ftcdn.net/v2/jpg/01/35/97/83/1000_F_135978399_qplk3WPu7JOA63JPCYVy1fb7MI4nefAL.jpg. Accessed: Nov. 29, 2024.\n",
    "\n",
    "[5] Damien, \"Chimpanzee Looking Towards Camera,\" *Adobe Stock*. Available: https://as1.ftcdn.net/v2/jpg/08/10/07/84/1000_F_810078457_c0Gmu5C1O6dMi9eD6HVmg87pjbTZ8MZk.jpg. Accessed: Nov. 29, 2024.\n",
    "\n",
    "[6] M. Lorenz, \"Fawn Pug,\" *Getty Images*. Available: www.gettyimages.com/detail/photo/fawn-pug-royalty-free-image/144815824. Accessed: Nov. 29, 2024.\n",
    "\n",
    "[7] Y. Choi, Y. Uh, J. Yoo, and J.-W. Ha, *\"StarGAN v2: Diverse Image Synthesis for Multiple Domains,\"* in *Proceedings of the IEEE/CVF Conference on Computer Vision and Pattern Recognition (CVPR)*, 2020. Available: https://github.com/clovaai/stargan-v2?tab=readme-ov-file. Accessed: Nov. 29, 2024."
   ]
  }
 ],
 "metadata": {
  "kernelspec": {
   "display_name": "Python [conda env:school]",
   "language": "python",
   "name": "conda-env-school-py"
  },
  "language_info": {
   "codemirror_mode": {
    "name": "ipython",
    "version": 3
   },
   "file_extension": ".py",
   "mimetype": "text/x-python",
   "name": "python",
   "nbconvert_exporter": "python",
   "pygments_lexer": "ipython3",
   "version": "3.12.7"
  }
 },
 "nbformat": 4,
 "nbformat_minor": 5
}
